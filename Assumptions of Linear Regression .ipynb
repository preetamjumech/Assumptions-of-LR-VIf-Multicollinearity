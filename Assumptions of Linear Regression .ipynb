{
 "cells": [
  {
   "cell_type": "code",
   "execution_count": 1,
   "id": "5759f121",
   "metadata": {},
   "outputs": [],
   "source": [
    "import matplotlib.pyplot as plt\n",
    "import numpy as np\n",
    "import pandas as pd\n",
    "import scipy as sp\n",
    "import seaborn as sns\n",
    "import statsmodels.api as sm\n",
    "import statsmodels.tsa.api as smt\n",
    "import warnings\n",
    "from sklearn.linear_model import LinearRegression\n",
    "from sklearn.model_selection import train_test_split\n",
    "from statsmodels.stats.outliers_influence import variance_inflation_factor\n",
    "\n",
    "warnings.filterwarnings(\"ignore\")\n",
    "%matplotlib inline"
   ]
  },
  {
   "cell_type": "code",
   "execution_count": 2,
   "id": "b04ea4ce",
   "metadata": {},
   "outputs": [],
   "source": [
    "df= pd.read_csv(\"data.csv\")"
   ]
  },
  {
   "cell_type": "code",
   "execution_count": 3,
   "id": "3cfbb0df",
   "metadata": {},
   "outputs": [
    {
     "data": {
      "text/html": [
       "<div>\n",
       "<style scoped>\n",
       "    .dataframe tbody tr th:only-of-type {\n",
       "        vertical-align: middle;\n",
       "    }\n",
       "\n",
       "    .dataframe tbody tr th {\n",
       "        vertical-align: top;\n",
       "    }\n",
       "\n",
       "    .dataframe thead th {\n",
       "        text-align: right;\n",
       "    }\n",
       "</style>\n",
       "<table border=\"1\" class=\"dataframe\">\n",
       "  <thead>\n",
       "    <tr style=\"text-align: right;\">\n",
       "      <th></th>\n",
       "      <th>Feature 1</th>\n",
       "      <th>Feature 2</th>\n",
       "      <th>Feature 3</th>\n",
       "      <th>Target</th>\n",
       "    </tr>\n",
       "  </thead>\n",
       "  <tbody>\n",
       "    <tr>\n",
       "      <th>0</th>\n",
       "      <td>230.1</td>\n",
       "      <td>37.8</td>\n",
       "      <td>69.2</td>\n",
       "      <td>22.1</td>\n",
       "    </tr>\n",
       "    <tr>\n",
       "      <th>1</th>\n",
       "      <td>44.5</td>\n",
       "      <td>39.3</td>\n",
       "      <td>45.1</td>\n",
       "      <td>10.4</td>\n",
       "    </tr>\n",
       "    <tr>\n",
       "      <th>2</th>\n",
       "      <td>17.2</td>\n",
       "      <td>45.9</td>\n",
       "      <td>69.3</td>\n",
       "      <td>9.3</td>\n",
       "    </tr>\n",
       "    <tr>\n",
       "      <th>3</th>\n",
       "      <td>151.5</td>\n",
       "      <td>41.3</td>\n",
       "      <td>58.5</td>\n",
       "      <td>18.5</td>\n",
       "    </tr>\n",
       "    <tr>\n",
       "      <th>4</th>\n",
       "      <td>180.8</td>\n",
       "      <td>10.8</td>\n",
       "      <td>58.4</td>\n",
       "      <td>12.9</td>\n",
       "    </tr>\n",
       "  </tbody>\n",
       "</table>\n",
       "</div>"
      ],
      "text/plain": [
       "   Feature 1  Feature 2  Feature 3  Target\n",
       "0      230.1       37.8       69.2    22.1\n",
       "1       44.5       39.3       45.1    10.4\n",
       "2       17.2       45.9       69.3     9.3\n",
       "3      151.5       41.3       58.5    18.5\n",
       "4      180.8       10.8       58.4    12.9"
      ]
     },
     "execution_count": 3,
     "metadata": {},
     "output_type": "execute_result"
    }
   ],
   "source": [
    "df.head()"
   ]
  },
  {
   "cell_type": "code",
   "execution_count": 4,
   "id": "5866598b",
   "metadata": {},
   "outputs": [
    {
     "data": {
      "text/plain": [
       "(200, 4)"
      ]
     },
     "execution_count": 4,
     "metadata": {},
     "output_type": "execute_result"
    }
   ],
   "source": [
    "df.shape"
   ]
  },
  {
   "cell_type": "code",
   "execution_count": 5,
   "id": "c955f725",
   "metadata": {},
   "outputs": [],
   "source": [
    "target_col = \"Target\""
   ]
  },
  {
   "cell_type": "code",
   "execution_count": 6,
   "id": "37dd7a02",
   "metadata": {},
   "outputs": [],
   "source": [
    "X = df.loc[:, df.columns != target_col]\n",
    "y = df.loc[:, target_col]"
   ]
  },
  {
   "cell_type": "code",
   "execution_count": 7,
   "id": "c6efbd80",
   "metadata": {},
   "outputs": [],
   "source": [
    "# Split the data into train and test with 70% data being used for training\n",
    "X_train, X_test, y_train, y_test = train_test_split(X, y, \n",
    "                                                    test_size=0.30, \n",
    "                                                    random_state=42)"
   ]
  },
  {
   "cell_type": "markdown",
   "id": "59799dae",
   "metadata": {},
   "source": [
    "# Linear Regression using statsmodels"
   ]
  },
  {
   "cell_type": "code",
   "execution_count": 8,
   "id": "0ee99f7a",
   "metadata": {},
   "outputs": [],
   "source": [
    "X_with_constant = sm.add_constant(X_train)\n",
    "model = sm.OLS(y_train, X_with_constant)"
   ]
  },
  {
   "cell_type": "code",
   "execution_count": 9,
   "id": "d5eb264e",
   "metadata": {},
   "outputs": [
    {
     "data": {
      "text/plain": [
       "const        2.708949\n",
       "Feature 1    0.044059\n",
       "Feature 2    0.199287\n",
       "Feature 3    0.006882\n",
       "dtype: float64"
      ]
     },
     "execution_count": 9,
     "metadata": {},
     "output_type": "execute_result"
    }
   ],
   "source": [
    "results = model.fit()\n",
    "results.params"
   ]
  },
  {
   "cell_type": "code",
   "execution_count": 10,
   "id": "78cab670",
   "metadata": {},
   "outputs": [
    {
     "name": "stdout",
     "output_type": "stream",
     "text": [
      "                            OLS Regression Results                            \n",
      "==============================================================================\n",
      "Dep. Variable:                 Target   R-squared:                       0.906\n",
      "Model:                            OLS   Adj. R-squared:                  0.903\n",
      "Method:                 Least Squares   F-statistic:                     434.5\n",
      "Date:                Sun, 22 May 2022   Prob (F-statistic):           1.88e-69\n",
      "Time:                        18:40:11   Log-Likelihood:                -262.21\n",
      "No. Observations:                 140   AIC:                             532.4\n",
      "Df Residuals:                     136   BIC:                             544.2\n",
      "Df Model:                           3                                         \n",
      "Covariance Type:            nonrobust                                         \n",
      "==============================================================================\n",
      "                 coef    std err          t      P>|t|      [0.025      0.975]\n",
      "------------------------------------------------------------------------------\n",
      "const          2.7089      0.374      7.250      0.000       1.970       3.448\n",
      "Feature 1      0.0441      0.002     27.219      0.000       0.041       0.047\n",
      "Feature 2      0.1993      0.010     20.195      0.000       0.180       0.219\n",
      "Feature 3      0.0069      0.007      0.988      0.325      -0.007       0.021\n",
      "==============================================================================\n",
      "Omnibus:                       68.437   Durbin-Watson:                   2.285\n",
      "Prob(Omnibus):                  0.000   Jarque-Bera (JB):              325.342\n",
      "Skew:                          -1.709   Prob(JB):                     2.25e-71\n",
      "Kurtosis:                       9.640   Cond. No.                         500.\n",
      "==============================================================================\n",
      "\n",
      "Notes:\n",
      "[1] Standard Errors assume that the covariance matrix of the errors is correctly specified.\n"
     ]
    }
   ],
   "source": [
    "print(results.summary())"
   ]
  },
  {
   "cell_type": "code",
   "execution_count": 11,
   "id": "ba637475",
   "metadata": {},
   "outputs": [],
   "source": [
    "X_test = sm.add_constant(X_test)"
   ]
  },
  {
   "cell_type": "code",
   "execution_count": 12,
   "id": "81d46ecd",
   "metadata": {},
   "outputs": [],
   "source": [
    "y_pred = results.predict(X_test)"
   ]
  },
  {
   "cell_type": "code",
   "execution_count": 13,
   "id": "9b5faa31",
   "metadata": {},
   "outputs": [],
   "source": [
    "residual = y_test - y_pred"
   ]
  },
  {
   "cell_type": "markdown",
   "id": "4bc382a9",
   "metadata": {},
   "source": [
    "# No Multicolinearity"
   ]
  },
  {
   "cell_type": "code",
   "execution_count": 20,
   "id": "4f6a98ef",
   "metadata": {},
   "outputs": [
    {
     "data": {
      "text/html": [
       "<div>\n",
       "<style scoped>\n",
       "    .dataframe tbody tr th:only-of-type {\n",
       "        vertical-align: middle;\n",
       "    }\n",
       "\n",
       "    .dataframe tbody tr th {\n",
       "        vertical-align: top;\n",
       "    }\n",
       "\n",
       "    .dataframe thead th {\n",
       "        text-align: right;\n",
       "    }\n",
       "</style>\n",
       "<table border=\"1\" class=\"dataframe\">\n",
       "  <thead>\n",
       "    <tr style=\"text-align: right;\">\n",
       "      <th></th>\n",
       "      <th>Feature 1</th>\n",
       "      <th>Feature 2</th>\n",
       "      <th>Feature 3</th>\n",
       "    </tr>\n",
       "  </thead>\n",
       "  <tbody>\n",
       "    <tr>\n",
       "      <th>vif</th>\n",
       "      <td>2.697679</td>\n",
       "      <td>3.473818</td>\n",
       "      <td>3.162643</td>\n",
       "    </tr>\n",
       "  </tbody>\n",
       "</table>\n",
       "</div>"
      ],
      "text/plain": [
       "     Feature 1  Feature 2  Feature 3\n",
       "vif   2.697679   3.473818   3.162643"
      ]
     },
     "execution_count": 20,
     "metadata": {},
     "output_type": "execute_result"
    }
   ],
   "source": [
    "vif = [variance_inflation_factor(X_train.values, i) for i in range(X_train.shape[1])]\n",
    "pd.DataFrame({'vif': vif[0:]}, index=X_train.columns).T"
   ]
  },
  {
   "cell_type": "code",
   "execution_count": 16,
   "id": "b4039832",
   "metadata": {},
   "outputs": [],
   "source": [
    "vif = [variance_inflation_factor(X_train.values, i ) for i in range(X_train.shape[1])]"
   ]
  },
  {
   "cell_type": "code",
   "execution_count": 14,
   "id": "ee41d0c2",
   "metadata": {},
   "outputs": [
    {
     "data": {
      "text/plain": [
       "3"
      ]
     },
     "execution_count": 14,
     "metadata": {},
     "output_type": "execute_result"
    }
   ],
   "source": [
    "X_train.shape[1]"
   ]
  },
  {
   "cell_type": "code",
   "execution_count": 15,
   "id": "2a4cfe27",
   "metadata": {},
   "outputs": [
    {
     "data": {
      "text/plain": [
       "array([[284.3,  10.6,   6.4],\n",
       "       [184.9,  21. ,  22. ],\n",
       "       [112.9,  17.4,  38.6],\n",
       "       [ 23.8,  35.1,  65.9],\n",
       "       [290.7,   4.1,   8.5],\n",
       "       [ 19.4,  16. ,  22.3],\n",
       "       [293.6,  27.7,   1.8],\n",
       "       [ 18.7,  12.1,  23.4],\n",
       "       [134.3,   4.9,   9.3],\n",
       "       [ 25.6,  39. ,   9.3],\n",
       "       [100.4,   9.6,   3.6],\n",
       "       [ 80.2,   0. ,   9.2],\n",
       "       [188.4,  18.1,  25.6],\n",
       "       [177. ,  33.4,  38.7],\n",
       "       [125.7,  36.9,  79.2],\n",
       "       [209.6,  20.6,  10.7],\n",
       "       [142.9,  29.3,  12.6],\n",
       "       [184.9,  43.9,   1.7],\n",
       "       [222.4,   4.3,  49.8],\n",
       "       [241.7,  38. ,  23.2],\n",
       "       [ 17.2,  45.9,  69.3],\n",
       "       [120.5,  28.5,  14.2],\n",
       "       [ 89.7,   9.9,  35.7],\n",
       "       [191.1,  28.7,  18.2],\n",
       "       [ 75.5,  10.8,   6. ],\n",
       "       [193.2,  18.4,  65.7],\n",
       "       [ 85.7,  35.8,  49.3],\n",
       "       [266.9,  43.8,   5. ],\n",
       "       [ 39.5,  41.1,   5.8],\n",
       "       [261.3,  42.7,  54.7],\n",
       "       [ 13.2,  15.9,  49.6],\n",
       "       [193.7,  35.4,  75.6],\n",
       "       [296.4,  36.3, 100.9],\n",
       "       [265.6,  20. ,   0.3],\n",
       "       [214.7,  24. ,   4. ],\n",
       "       [149.7,  35.6,   6. ],\n",
       "       [131.7,  18.4,  34.6],\n",
       "       [ 57.5,  32.8,  23.5],\n",
       "       [240.1,  16.7,  22.9],\n",
       "       [141.3,  26.8,  46.2],\n",
       "       [180.8,  10.8,  58.4],\n",
       "       [ 97.2,   1.5,  30. ],\n",
       "       [220.5,  33.2,  37.9],\n",
       "       [140.3,   1.9,   9. ],\n",
       "       [255.4,  26.9,   5.5],\n",
       "       [ 96.2,  14.8,  38.9],\n",
       "       [ 66.1,   5.8,  24.2],\n",
       "       [239.3,  15.5,  27.3],\n",
       "       [175.7,  15.4,   2.4],\n",
       "       [240.1,   7.3,   8.7],\n",
       "       [ 17.9,  37.6,  21.6],\n",
       "       [230.1,  37.8,  69.2],\n",
       "       [283.6,  42. ,  66.2],\n",
       "       [171.3,  39.7,  37.7],\n",
       "       [199.1,  30.6,  38.7],\n",
       "       [123.1,  34.6,  12.4],\n",
       "       [131.1,  42.8,  28.9],\n",
       "       [ 25.1,  25.7,  43.3],\n",
       "       [163.5,  36.8,   7.4],\n",
       "       [248.8,  27.1,  22.9],\n",
       "       [202.5,  22.3,  31.6],\n",
       "       [ 13.1,   0.4,  25.6],\n",
       "       [  4.1,  11.6,   5.7],\n",
       "       [ 93.9,  43.5,  50.5],\n",
       "       [262.9,   3.5,  19.5],\n",
       "       [228.3,  16.9,  26.2],\n",
       "       [253.8,  21.3,  30. ],\n",
       "       [243.2,  49. ,  44.3],\n",
       "       [239.8,   4.1,  36.9],\n",
       "       [228. ,  37.7,  32. ],\n",
       "       [215.4,  23.6,  57.6],\n",
       "       [239.9,  41.5,  18.5],\n",
       "       [107.4,  14. ,  10.9],\n",
       "       [187.8,  21.1,   9.5],\n",
       "       [206.9,   8.4,  26.4],\n",
       "       [ 43. ,  25.9,  20.5],\n",
       "       [151.5,  41.3,  58.5],\n",
       "       [137.9,  46.4,  59. ],\n",
       "       [182.6,  46.2,  58.7],\n",
       "       [219.8,  33.5,  45.1],\n",
       "       [156.6,   2.6,   8.3],\n",
       "       [276.7,   2.3,  23.7],\n",
       "       [205. ,  45.1,  19.6],\n",
       "       [ 66.9,  11.7,  36.8],\n",
       "       [ 76.4,  26.7,  22.3],\n",
       "       [ 95.7,   1.4,   7.4],\n",
       "       [120.2,  19.6,  11.6],\n",
       "       [225.8,   8.2,  56.5],\n",
       "       [ 28.6,   1.5,  33. ],\n",
       "       [ 68.4,  44.5,  35.6],\n",
       "       [248.4,  30.2,  20.3],\n",
       "       [218.5,   5.4,  27.4],\n",
       "       [109.8,  47.8,  51.4],\n",
       "       [  8.6,   2.1,   1. ],\n",
       "       [ 97.5,   7.6,   7.2],\n",
       "       [210.7,  29.5,   9.3],\n",
       "       [164.5,  20.9,  47.4],\n",
       "       [265.2,   2.9,  43. ],\n",
       "       [281.4,  39.6,  55.8],\n",
       "       [ 26.8,  33. ,  19.3],\n",
       "       [276.9,  48.9,  41.8],\n",
       "       [ 36.9,  38.6,  65.6],\n",
       "       [206.8,   5.2,  19.4],\n",
       "       [287.6,  43. ,  71.8],\n",
       "       [102.7,  29.6,   8.4],\n",
       "       [262.7,  28.8,  15.9],\n",
       "       [ 90.4,   0.3,  23.2],\n",
       "       [199.8,   3.1,  34.6],\n",
       "       [ 94.2,   4.9,   8.1],\n",
       "       [210.8,  49.6,  37.7],\n",
       "       [227.2,  15.8,  49.9],\n",
       "       [ 88.3,  25.5,  73.4],\n",
       "       [237.4,   5.1,  23.5],\n",
       "       [136.2,  19.2,  16.6],\n",
       "       [172.5,  18.1,  30.7],\n",
       "       [ 17.2,   4.1,  31.6],\n",
       "       [ 59.6,  12. ,  43.1],\n",
       "       [ 74.7,  49.4,  45.7],\n",
       "       [149.8,   1.3,  24.3],\n",
       "       [166.8,  42. ,   3.6],\n",
       "       [ 44.5,  39.3,  45.1],\n",
       "       [216.4,  41.7,  39.6],\n",
       "       [ 44.7,  25.8,  20.6],\n",
       "       [  0.7,  39.6,   8.7],\n",
       "       [121. ,   8.4,  48.7],\n",
       "       [187.9,  17.2,  17.9],\n",
       "       [135.2,  41.7,  45.9],\n",
       "       [139.2,  14.3,  25.6],\n",
       "       [110.7,  40.6,  63.2],\n",
       "       [213.4,  24.6,  13.1],\n",
       "       [ 18.8,  21.7,  50.4],\n",
       "       [232.1,   8.6,   8.7],\n",
       "       [218.4,  27.7,  53.4],\n",
       "       [286. ,  13.9,   3.7],\n",
       "       [109.8,  14.3,  31.7],\n",
       "       [ 25. ,  11. ,  29.7],\n",
       "       [204.1,  32.9,  46. ],\n",
       "       [217.7,  33.5,  59. ],\n",
       "       [165.6,  10. ,  17.6],\n",
       "       [280.2,  10.1,  21.4]])"
      ]
     },
     "execution_count": 15,
     "metadata": {},
     "output_type": "execute_result"
    }
   ],
   "source": [
    "X_train.values"
   ]
  },
  {
   "cell_type": "code",
   "execution_count": 17,
   "id": "bf9eb431",
   "metadata": {},
   "outputs": [
    {
     "data": {
      "text/plain": [
       "[2.6976786689636088, 3.473818052574502, 3.162643016014367]"
      ]
     },
     "execution_count": 17,
     "metadata": {},
     "output_type": "execute_result"
    }
   ],
   "source": [
    "vif"
   ]
  },
  {
   "cell_type": "code",
   "execution_count": 18,
   "id": "37a65a7c",
   "metadata": {},
   "outputs": [
    {
     "data": {
      "text/html": [
       "<div>\n",
       "<style scoped>\n",
       "    .dataframe tbody tr th:only-of-type {\n",
       "        vertical-align: middle;\n",
       "    }\n",
       "\n",
       "    .dataframe tbody tr th {\n",
       "        vertical-align: top;\n",
       "    }\n",
       "\n",
       "    .dataframe thead th {\n",
       "        text-align: right;\n",
       "    }\n",
       "</style>\n",
       "<table border=\"1\" class=\"dataframe\">\n",
       "  <thead>\n",
       "    <tr style=\"text-align: right;\">\n",
       "      <th></th>\n",
       "      <th>vif</th>\n",
       "    </tr>\n",
       "  </thead>\n",
       "  <tbody>\n",
       "    <tr>\n",
       "      <th>Feature 1</th>\n",
       "      <td>2.697679</td>\n",
       "    </tr>\n",
       "    <tr>\n",
       "      <th>Feature 2</th>\n",
       "      <td>3.473818</td>\n",
       "    </tr>\n",
       "    <tr>\n",
       "      <th>Feature 3</th>\n",
       "      <td>3.162643</td>\n",
       "    </tr>\n",
       "  </tbody>\n",
       "</table>\n",
       "</div>"
      ],
      "text/plain": [
       "                vif\n",
       "Feature 1  2.697679\n",
       "Feature 2  3.473818\n",
       "Feature 3  3.162643"
      ]
     },
     "execution_count": 18,
     "metadata": {},
     "output_type": "execute_result"
    }
   ],
   "source": [
    "pd.DataFrame({'vif': vif[0:]}, index=X_train.columns)"
   ]
  },
  {
   "cell_type": "code",
   "execution_count": 19,
   "id": "f8be65b5",
   "metadata": {},
   "outputs": [
    {
     "data": {
      "text/plain": [
       "Index(['Feature 1', 'Feature 2', 'Feature 3'], dtype='object')"
      ]
     },
     "execution_count": 19,
     "metadata": {},
     "output_type": "execute_result"
    }
   ],
   "source": [
    "X_train.columns"
   ]
  },
  {
   "cell_type": "code",
   "execution_count": 21,
   "id": "84fe44c0",
   "metadata": {},
   "outputs": [
    {
     "data": {
      "text/plain": [
       "[2.6976786689636088, 3.473818052574502, 3.162643016014367]"
      ]
     },
     "execution_count": 21,
     "metadata": {},
     "output_type": "execute_result"
    }
   ],
   "source": [
    "vif[0:]"
   ]
  },
  {
   "cell_type": "markdown",
   "id": "ee49ed8c",
   "metadata": {},
   "source": [
    "### so, all the features having VIF <5, are kind of having independent relationship among them. \n",
    "### so, assumption of multicollinearilty holds true here."
   ]
  },
  {
   "cell_type": "markdown",
   "id": "d8143ccd",
   "metadata": {},
   "source": [
    "# Normality of Residuals"
   ]
  },
  {
   "cell_type": "code",
   "execution_count": 23,
   "id": "0a4b998f",
   "metadata": {},
   "outputs": [
    {
     "data": {
      "text/plain": [
       "<AxesSubplot:ylabel='Density'>"
      ]
     },
     "execution_count": 23,
     "metadata": {},
     "output_type": "execute_result"
    },
    {
     "data": {
      "image/png": "[encoded data removed]",
      "text/plain": [
       "<Figure size 432x288 with 1 Axes>"
      ]
     },
     "metadata": {
      "needs_background": "light"
     },
     "output_type": "display_data"
    }
   ],
   "source": [
    "sns.distplot(residual)"
   ]
  },
  {
   "cell_type": "code",
   "execution_count": 37,
   "id": "e96b6e60",
   "metadata": {},
   "outputs": [
    {
     "data": {
      "image/png": "[encoded data removed]",
      "text/plain": [
       "<Figure size 432x180 with 1 Axes>"
      ]
     },
     "metadata": {
      "needs_background": "light"
     },
     "output_type": "display_data"
    }
   ],
   "source": [
    "fig, ax = plt.subplots(figsize=(6,2.5))\n",
    "_, (__, ___, r) = sp.stats.probplot(residual, plot=ax, fit=True)"
   ]
  },
  {
   "cell_type": "markdown",
   "id": "cd7c0bd2",
   "metadata": {},
   "source": [
    "### Fit=True, Fit a least-squares regression (best-fit) line to the sample data if True (default)."
   ]
  },
  {
   "cell_type": "code",
   "execution_count": 27,
   "id": "46ad3fe6",
   "metadata": {},
   "outputs": [
    {
     "data": {
      "text/plain": [
       "-0.03848895253439703"
      ]
     },
     "execution_count": 27,
     "metadata": {},
     "output_type": "execute_result"
    }
   ],
   "source": [
    "np.mean(residual)"
   ]
  },
  {
   "cell_type": "markdown",
   "id": "89ea221b",
   "metadata": {},
   "source": [
    "### distribution is almost normal, which can be seen from Q-Q plot as well as mean value of the residuals which is near about zero."
   ]
  },
  {
   "cell_type": "markdown",
   "id": "0ea7aff2",
   "metadata": {},
   "source": [
    "# Homoskedasticty or constant variance"
   ]
  },
  {
   "cell_type": "code",
   "execution_count": 28,
   "id": "34ca7e70",
   "metadata": {},
   "outputs": [
    {
     "data": {
      "image/png": "[encoded data removed]",
      "text/plain": [
       "<Figure size 432x180 with 1 Axes>"
      ]
     },
     "metadata": {
      "needs_background": "light"
     },
     "output_type": "display_data"
    }
   ],
   "source": [
    "fig, ax = plt.subplots(figsize=(6,2.5))\n",
    "_ = ax.scatter(y_pred, residual)"
   ]
  },
  {
   "cell_type": "markdown",
   "id": "11f70d49",
   "metadata": {},
   "source": [
    "### there is no such kind of pattern of the residuals, also most of the values lie around the centre value which the zero value. "
   ]
  },
  {
   "cell_type": "markdown",
   "id": "9342f5fa",
   "metadata": {},
   "source": [
    "# No autocorrelation of residuals"
   ]
  },
  {
   "cell_type": "markdown",
   "id": "bf9b19c8",
   "metadata": {},
   "source": [
    "### 1.alpha=.05, 95 % confidence intervals are returned where the standard deviation is computed according to Bartlett’s formula.  2.An int or array of lag values, used on horizontal axis."
   ]
  },
  {
   "cell_type": "code",
   "execution_count": 35,
   "id": "d81e777c",
   "metadata": {},
   "outputs": [
    {
     "data": {
      "image/png": "[encoded data removed]",
      "text/plain": [
       "<Figure size 432x288 with 1 Axes>"
      ]
     },
     "metadata": {
      "needs_background": "light"
     },
     "output_type": "display_data"
    }
   ],
   "source": [
    "acf = smt.graphics.plot_acf(residual, lags=40 , alpha=0.05)\n",
    "acf.show()"
   ]
  },
  {
   "cell_type": "markdown",
   "id": "c2751551",
   "metadata": {},
   "source": [
    "### rediuals with itself are having correlation values as 1 but other than that, no values are crossing the shaded region.so we can say no autocorrelation between residuals hold true here. "
   ]
  },
  {
   "cell_type": "code",
   "execution_count": null,
   "id": "5ac6b430",
   "metadata": {},
   "outputs": [],
   "source": []
  }
 ],
 "metadata": {
  "kernelspec": {
   "display_name": "Python 3",
   "language": "python",
   "name": "python3"
  },
  "language_info": {
   "codemirror_mode": {
    "name": "ipython",
    "version": 3
   },
   "file_extension": ".py",
   "mimetype": "text/x-python",
   "name": "python",
   "nbconvert_exporter": "python",
   "pygments_lexer": "ipython3",
   "version": "3.8.8"
  }
 },
 "nbformat": 4,
 "nbformat_minor": 5
}
