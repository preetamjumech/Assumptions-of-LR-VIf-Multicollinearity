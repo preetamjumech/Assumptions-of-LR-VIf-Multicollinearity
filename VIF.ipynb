{
 "cells": [
  {
   "cell_type": "code",
   "execution_count": 1,
   "id": "938db947",
   "metadata": {},
   "outputs": [
    {
     "name": "stdout",
     "output_type": "stream",
     "text": [
      "   Gender  Height  Weight  Index\n",
      "0    Male     174      96      4\n",
      "1    Male     189      87      2\n",
      "2  Female     185     110      4\n",
      "3  Female     195     104      3\n",
      "4    Male     149      61      3\n"
     ]
    }
   ],
   "source": [
    "import pandas as pd \n",
    "  \n",
    "# the dataset\n",
    "data = pd.read_csv('BMI.csv')\n",
    "  \n",
    "# printing first few rows\n",
    "print(data.head())"
   ]
  },
  {
   "cell_type": "code",
   "execution_count": 2,
   "id": "a948d3c7",
   "metadata": {},
   "outputs": [
    {
     "name": "stdout",
     "output_type": "stream",
     "text": [
      "  feature        VIF\n",
      "0  Gender   2.028864\n",
      "1  Height  11.623103\n",
      "2  Weight  10.688377\n"
     ]
    }
   ],
   "source": [
    "from statsmodels.stats.outliers_influence import variance_inflation_factor\n",
    "  \n",
    "# creating dummies for gender\n",
    "data['Gender'] = data['Gender'].map({'Male':0, 'Female':1})\n",
    "  \n",
    "# the independent variables set\n",
    "X = data[['Gender', 'Height', 'Weight']]\n",
    "  \n",
    "# VIF dataframe\n",
    "vif_data = pd.DataFrame()\n",
    "vif_data[\"feature\"] = X.columns\n",
    "  \n",
    "# calculating VIF for each feature\n",
    "vif_data[\"VIF\"] = [variance_inflation_factor(X.values, i)\n",
    "                          for i in range(len(X.columns))]\n",
    "  \n",
    "print(vif_data)"
   ]
  },
  {
   "cell_type": "markdown",
   "id": "6d1af491",
   "metadata": {},
   "source": [
    "### As we can see, height and weight have very high values of VIF, indicating that these two variables are highly correlated. This is expected as the height of a person does influence their weight. Hence, considering these two features together leads to a model with high multicollinearity."
   ]
  },
  {
   "cell_type": "code",
   "execution_count": null,
   "id": "ae3fe135",
   "metadata": {},
   "outputs": [],
   "source": []
  }
 ],
 "metadata": {
  "kernelspec": {
   "display_name": "Python 3",
   "language": "python",
   "name": "python3"
  },
  "language_info": {
   "codemirror_mode": {
    "name": "ipython",
    "version": 3
   },
   "file_extension": ".py",
   "mimetype": "text/x-python",
   "name": "python",
   "nbconvert_exporter": "python",
   "pygments_lexer": "ipython3",
   "version": "3.8.8"
  }
 },
 "nbformat": 4,
 "nbformat_minor": 5
}
